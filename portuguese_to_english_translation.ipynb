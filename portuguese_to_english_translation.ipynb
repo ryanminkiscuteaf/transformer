{
 "cells": [
  {
   "cell_type": "markdown",
   "metadata": {},
   "source": [
    "# Portuguese to English Translation using Transformer"
   ]
  },
  {
   "cell_type": "markdown",
   "metadata": {},
   "source": [
    "Import libraries"
   ]
  },
  {
   "cell_type": "code",
   "execution_count": 1,
   "metadata": {},
   "outputs": [],
   "source": [
    "from __future__ import absolute_import, division, print_function, unicode_literals\n",
    "\n",
    "# !pip install tensorflow-datasets\n",
    "import tensorflow_datasets as tfds\n",
    "import tensorflow as tf\n",
    "\n",
    "import time\n",
    "import numpy as np\n",
    "import matplotlib.pyplot as plt"
   ]
  },
  {
   "cell_type": "markdown",
   "metadata": {},
   "source": [
    "## Setup input pipeline\n",
    "\n",
    "See what datasets are available"
   ]
  },
  {
   "cell_type": "code",
   "execution_count": 2,
   "metadata": {},
   "outputs": [
    {
     "name": "stdout",
     "output_type": "stream",
     "text": [
      "['abstract_reasoning', 'bair_robot_pushing_small', 'caltech101', 'cats_vs_dogs', 'celeb_a', 'celeb_a_hq', 'chexpert', 'cifar10', 'cifar100', 'cifar10_corrupted', 'cnn_dailymail', 'coco2014', 'colorectal_histology', 'colorectal_histology_large', 'cycle_gan', 'diabetic_retinopathy_detection', 'dsprites', 'dtd', 'dummy_dataset_shared_generator', 'dummy_mnist', 'emnist', 'fashion_mnist', 'flores', 'glue', 'groove', 'higgs', 'horses_or_humans', 'image_label_folder', 'imagenet2012', 'imagenet2012_corrupted', 'imdb_reviews', 'iris', 'kmnist', 'lm1b', 'lsun', 'mnist', 'moving_mnist', 'multi_nli', 'nsynth', 'omniglot', 'open_images_v4', 'oxford_flowers102', 'oxford_iiit_pet', 'para_crawl', 'quickdraw_bitmap', 'rock_paper_scissors', 'shapes3d', 'smallnorb', 'squad', 'starcraft_video', 'sun397', 'svhn_cropped', 'ted_hrlr_translate', 'ted_multi_translate', 'tf_flowers', 'titanic', 'ucf101', 'voc2007', 'wikipedia', 'wmt15_translate', 'wmt16_translate', 'wmt17_translate', 'wmt18_translate', 'wmt19_translate', 'wmt_translate', 'xnli']\n"
     ]
    }
   ],
   "source": [
    "print(tfds.list_builders())"
   ]
  },
  {
   "cell_type": "markdown",
   "metadata": {},
   "source": [
    "Download dataset\n",
    "* `with_info`: download `DatasetInfo`\n",
    "* `as_supervised`: `tf.data.Dataset` will have 2-tuple structure `(input, label)`"
   ]
  },
  {
   "cell_type": "code",
   "execution_count": 3,
   "metadata": {},
   "outputs": [],
   "source": [
    "examples, metadata = tfds.load('ted_hrlr_translate/pt_to_en', \n",
    "                               with_info=True, \n",
    "                               as_supervised=True)"
   ]
  },
  {
   "cell_type": "markdown",
   "metadata": {},
   "source": [
    "Prints out useful information about the dataset"
   ]
  },
  {
   "cell_type": "code",
   "execution_count": 4,
   "metadata": {},
   "outputs": [
    {
     "name": "stdout",
     "output_type": "stream",
     "text": [
      "tfds.core.DatasetInfo(\n",
      "    name='ted_hrlr_translate',\n",
      "    version=0.0.1,\n",
      "    description='Data sets derived from TED talk transcripts for comparing similar language pairs\n",
      "where one is high resource and the other is low resource.\n",
      "',\n",
      "    urls=['https://github.com/neulab/word-embeddings-for-nmt'],\n",
      "    features=Translation({\n",
      "        'en': Text(shape=(), dtype=tf.string, encoder=None),\n",
      "        'pt': Text(shape=(), dtype=tf.string, encoder=None)\n",
      "    },\n",
      "    total_num_examples=54781,\n",
      "    splits={\n",
      "        'test': <tfds.core.SplitInfo num_examples=1803>,\n",
      "        'train': <tfds.core.SplitInfo num_examples=51785>,\n",
      "        'validation': <tfds.core.SplitInfo num_examples=1193>\n",
      "    },\n",
      "    supervised_keys=('pt', 'en'),\n",
      "    citation='\"\"\"\n",
      "        @inproceedings{Ye2018WordEmbeddings,\n",
      "          author  = {Ye, Qi and Devendra, Sachan and Matthieu, Felix and Sarguna, Padmanabhan and Graham, Neubig},\n",
      "          title   = {When and Why are pre-trained word embeddings useful for Neural Machine Translation},\n",
      "          booktitle = {HLT-NAACL},\n",
      "          year    = {2018},\n",
      "          }\n",
      "        \n",
      "    \"\"\"',\n",
      "    redistribution_info=,\n",
      ")\n",
      "\n"
     ]
    }
   ],
   "source": [
    "print(metadata)"
   ]
  },
  {
   "cell_type": "markdown",
   "metadata": {},
   "source": [
    "`supervised_keys=('pt', 'en')` indicates that the input is `pt` and the label is `en`\n",
    "\n",
    "`pt` => Portuguese\n",
    "\n",
    "`en` => English"
   ]
  },
  {
   "cell_type": "code",
   "execution_count": 5,
   "metadata": {},
   "outputs": [],
   "source": [
    "train_examples, val_examples = examples['train'], examples['validation']"
   ]
  },
  {
   "cell_type": "markdown",
   "metadata": {},
   "source": [
    "Get list of training sentences"
   ]
  },
  {
   "cell_type": "code",
   "execution_count": 6,
   "metadata": {},
   "outputs": [],
   "source": [
    "en_train_data = [en.numpy() for pt, en in train_examples]\n",
    "pt_train_data = [pt.numpy() for pt, en in train_examples]"
   ]
  },
  {
   "cell_type": "markdown",
   "metadata": {},
   "source": [
    "Create a custom subword tokenizer from the training dataset"
   ]
  },
  {
   "cell_type": "code",
   "execution_count": 7,
   "metadata": {},
   "outputs": [],
   "source": [
    "tokenizer_en = tfds.features.text.SubwordTextEncoder.build_from_corpus(\n",
    "    en_train_data, target_vocab_size=2**13)\n",
    "\n",
    "tokenizer_pt = tfds.features.text.SubwordTextEncoder.build_from_corpus(\n",
    "    pt_train_data, target_vocab_size=2**13)"
   ]
  },
  {
   "cell_type": "markdown",
   "metadata": {},
   "source": [
    "See how the tokenizer works"
   ]
  },
  {
   "cell_type": "code",
   "execution_count": 8,
   "metadata": {},
   "outputs": [
    {
     "name": "stdout",
     "output_type": "stream",
     "text": [
      "Tokenized string is [7904, 7870, 74, 260, 106, 18, 5125, 55, 217, 7864]\n",
      "The original string: I've always been so jacked up!\n"
     ]
    }
   ],
   "source": [
    "sample_string = \"I've always been so jacked up!\"\n",
    "\n",
    "tokenized_string = tokenizer_en.encode(sample_string)\n",
    "print('Tokenized string is {}'.format(tokenized_string))\n",
    "\n",
    "original_string = tokenizer_en.decode(tokenized_string)\n",
    "print('The original string: {}'.format(original_string))\n",
    "\n",
    "assert sample_string == original_string"
   ]
  },
  {
   "cell_type": "markdown",
   "metadata": {},
   "source": [
    "The tokenizer encodes the string by breaking it into subwords if the word is not in its dictionary, thus there is no unknown word in the vocabulary"
   ]
  },
  {
   "cell_type": "code",
   "execution_count": 9,
   "metadata": {},
   "outputs": [
    {
     "name": "stdout",
     "output_type": "stream",
     "text": [
      "7904 ----> I\n",
      "7870 ----> '\n",
      "74 ----> ve \n",
      "260 ----> always \n",
      "106 ----> been \n",
      "18 ----> so \n",
      "5125 ----> jack\n",
      "55 ----> ed \n",
      "217 ----> up\n",
      "7864 ----> !\n"
     ]
    }
   ],
   "source": [
    "for subword in tokenized_string:\n",
    "    print('{} ----> {}'.format(subword, tokenizer_en.decode([subword])))"
   ]
  },
  {
   "cell_type": "code",
   "execution_count": 10,
   "metadata": {},
   "outputs": [
    {
     "name": "stdout",
     "output_type": "stream",
     "text": [
      "7903 ----> H\n",
      "7936 ----> i\n",
      "7864 ----> !\n",
      "7863 ---->  \n",
      "7908 ----> M\n",
      "113 ----> y \n",
      "699 ----> name \n",
      "13 ----> is \n",
      "7913 ----> R\n",
      "4749 ----> yan\n",
      "7863 ---->  \n",
      "7908 ----> M\n",
      "5128 ----> ink\n",
      "7345 ----> , \n",
      "7900 ----> E\n",
      "4869 ----> lon\n",
      "7863 ---->  \n",
      "7908 ----> M\n",
      "171 ----> us\n",
      "7938 ----> k\n",
      "7870 ----> '\n",
      "9 ----> s \n",
      "2205 ----> success\n",
      "331 ----> or\n",
      "7864 ----> !\n"
     ]
    }
   ],
   "source": [
    "sample_string_2 = \"Hi! My name is Ryan Mink, Elon Musk's successor!\"\n",
    "tokenized_string_2 = tokenizer_en.encode(sample_string_2)\n",
    "for subword in tokenized_string_2:\n",
    "    print('{} ----> {}'.format(subword, tokenizer_en.decode([subword])))"
   ]
  },
  {
   "cell_type": "code",
   "execution_count": 11,
   "metadata": {},
   "outputs": [],
   "source": [
    "BUFFER_SIZE = 20000\n",
    "BATCH_SIZE = 64"
   ]
  },
  {
   "cell_type": "markdown",
   "metadata": {},
   "source": [
    "Add a start and end token to the input and target"
   ]
  },
  {
   "cell_type": "code",
   "execution_count": 12,
   "metadata": {},
   "outputs": [],
   "source": [
    "def encode(lang1, lang2):\n",
    "    lang1 = [tokenizer_pt.vocab_size] + tokenizer_pt.encode(\n",
    "        lang1.numpy()) + [tokenizer_pt.vocab_size+1]\n",
    "    lang2 = [tokenizer_en.vocab_size] + tokenizer_en.encode(\n",
    "        lang2.numpy()) + [tokenizer_en.vocab_size+1]\n",
    "    \n",
    "    return lang1, lang2"
   ]
  },
  {
   "cell_type": "markdown",
   "metadata": {},
   "source": [
    "To keep this example small and relatively fast, drop examples with a length of over 40 tokens"
   ]
  },
  {
   "cell_type": "code",
   "execution_count": 13,
   "metadata": {},
   "outputs": [],
   "source": [
    "MAX_LENGTH = 40"
   ]
  },
  {
   "cell_type": "code",
   "execution_count": 14,
   "metadata": {},
   "outputs": [],
   "source": [
    "def filter_max_length(x, y, max_length=MAX_LENGTH):\n",
    "    return tf.logical_and(tf.size(x) <= max_length,\n",
    "                          tf.size(y) <= max_length)"
   ]
  },
  {
   "cell_type": "markdown",
   "metadata": {},
   "source": [
    "Operations inside `.map()` run in graph mode and receive a graph tensor that do not have a numpy attribute. The `tokenizer` expects a string or Unicode symbol to encode it into integers. Hence, you need to run the encoding inside a `tf.py_function`, which receives an eager tensor having a numpy attribute that contains the string value."
   ]
  },
  {
   "cell_type": "code",
   "execution_count": 15,
   "metadata": {},
   "outputs": [],
   "source": [
    "def tf_encode(pt, en):\n",
    "    # wraps a python function into a TensorFlow op that executes it eagerly\n",
    "    return tf.py_function(func=encode, inp=[pt, en], Tout=[tf.int64, tf.int64])"
   ]
  },
  {
   "cell_type": "code",
   "execution_count": 16,
   "metadata": {},
   "outputs": [],
   "source": [
    "# maps tf_encode to each element of train_examples which is a tuple\n",
    "train_dataset = train_examples.map(tf_encode)\n",
    "\n",
    "# filters the dataset according to predicate e.g. max length\n",
    "train_dataset = train_dataset.filter(filter_max_length)\n",
    "\n",
    "# cache the dataset to memory to get a speedup while reading from it\n",
    "train_dataset = train_dataset.cache()\n",
    "\n",
    "# combines consecutive elements of this dataset into padded batches\n",
    "# BUFFER_SIZE indicates the number of elements from which an element is randomly sampled\n",
    "# for the new dataset\n",
    "# the buffer is then refilled with the remaining elements from the original dataset\n",
    "# -1 => pad to the maximum size of that dimension in each batch\n",
    "train_dataset = train_dataset.shuffle(BUFFER_SIZE).padded_batch(\n",
    "    BATCH_SIZE, padded_shapes=([-1], [-1]))\n",
    "\n",
    "# creates a Dataset that prefetches elements from this dataset\n",
    "train_dataset = train_dataset.prefetch(tf.data.experimental.AUTOTUNE)\n",
    "\n",
    "val_dataset = val_examples.map(tf_encode)\n",
    "val_dataset = val_dataset.filter(filter_max_length).padded_batch(\n",
    "    BATCH_SIZE, padded_shapes=([-1], [-1]))"
   ]
  },
  {
   "cell_type": "markdown",
   "metadata": {},
   "source": [
    "See what the batches look like"
   ]
  },
  {
   "cell_type": "code",
   "execution_count": 17,
   "metadata": {},
   "outputs": [
    {
     "data": {
      "text/plain": [
       "(<tf.Tensor: id=311407, shape=(64, 40), dtype=int64, numpy=\n",
       " array([[8214, 1259,    5, ...,    0,    0,    0],\n",
       "        [8214,  299,   13, ...,    0,    0,    0],\n",
       "        [8214,   59,    8, ...,    0,    0,    0],\n",
       "        ...,\n",
       "        [8214,   95,    3, ...,    0,    0,    0],\n",
       "        [8214, 5157,    1, ...,    0,    0,    0],\n",
       "        [8214, 4479, 7990, ...,    0,    0,    0]])>,\n",
       " <tf.Tensor: id=311408, shape=(64, 40), dtype=int64, numpy=\n",
       " array([[8087,   18,   12, ...,    0,    0,    0],\n",
       "        [8087,  634,   30, ...,    0,    0,    0],\n",
       "        [8087,   16,   13, ...,    0,    0,    0],\n",
       "        ...,\n",
       "        [8087,   12,   20, ...,    0,    0,    0],\n",
       "        [8087,   17, 4981, ...,    0,    0,    0],\n",
       "        [8087,   12, 5453, ...,    0,    0,    0]])>)"
      ]
     },
     "execution_count": 17,
     "metadata": {},
     "output_type": "execute_result"
    }
   ],
   "source": [
    "pt_batch, en_batch = next(iter(val_dataset))\n",
    "pt_batch, en_batch"
   ]
  },
  {
   "cell_type": "markdown",
   "metadata": {},
   "source": [
    "The batch is expected to have a batch size of 64 and a sequence length of 40"
   ]
  },
  {
   "cell_type": "code",
   "execution_count": 18,
   "metadata": {},
   "outputs": [
    {
     "data": {
      "text/plain": [
       "(TensorShape([64, 40]), TensorShape([64, 40]))"
      ]
     },
     "execution_count": 18,
     "metadata": {},
     "output_type": "execute_result"
    }
   ],
   "source": [
    "pt_batch.shape, en_batch.shape"
   ]
  },
  {
   "cell_type": "markdown",
   "metadata": {},
   "source": [
    "## Positional encoding\n",
    "\n",
    "Transformer does not contain recurrence or convolution, hence positional encoding is added to encode the relative position of words in a sentence.\n",
    "\n",
    "Formula for calculating the positional encoding is as follows:\n",
    "\n",
    "$$\\Large{PE_{(pos, 2i)} = sin(pos / 10000^{2i / d_{model}})} $$\n",
    "$$\\Large{PE_{(pos, 2i+1)} = cos(pos / 10000^{2i / d_{model}})} $$"
   ]
  },
  {
   "cell_type": "code",
   "execution_count": 19,
   "metadata": {},
   "outputs": [],
   "source": [
    "def get_angles(pos, i, d_model):\n",
    "    angle_rates = 1 / np.power(10000, (2 * (i//2)) / np.float32(d_model))\n",
    "    return pos * angle_rates"
   ]
  },
  {
   "cell_type": "markdown",
   "metadata": {},
   "source": [
    "The positional encoding vector is added to the embedding vector for each input to the encoder and decoder"
   ]
  },
  {
   "cell_type": "code",
   "execution_count": 20,
   "metadata": {},
   "outputs": [],
   "source": [
    "def positional_encoding(position, d_model):\n",
    "    angle_rads = get_angles(np.arange(position)[:, np.newaxis],\n",
    "                            np.arange(d_model)[np.newaxis, :],\n",
    "                            d_model)\n",
    "    \n",
    "    # apply sin to even indices in the array; 2i\n",
    "    sines = np.sin(angle_rads[:, 0::2])\n",
    "    \n",
    "    # apply cos to odd indices in the array; 2i+1\n",
    "    cosines = np.cos(angle_rads[:, 1::2])\n",
    "    \n",
    "    pos_encoding = np.concatenate([sines, cosines], axis=-1)\n",
    "    \n",
    "    pos_encoding = pos_encoding[np.newaxis, ...]\n",
    "    \n",
    "    return tf.cast(pos_encoding, dtype=tf.float32)"
   ]
  },
  {
   "cell_type": "code",
   "execution_count": 21,
   "metadata": {},
   "outputs": [
    {
     "name": "stdout",
     "output_type": "stream",
     "text": [
      "(1, 50, 512)\n"
     ]
    },
    {
     "data": {
      "image/png": "[encoded data removed]",
      "text/plain": [
       "<Figure size 432x288 with 2 Axes>"
      ]
     },
     "metadata": {},
     "output_type": "display_data"
    }
   ],
   "source": [
    "pos_encoding = positional_encoding(50, 512)\n",
    "print(pos_encoding.shape)\n",
    "\n",
    "plt.pcolormesh(pos_encoding[0], cmap='RdBu')\n",
    "plt.xlabel('Depth')\n",
    "plt.xlim((0, 512))\n",
    "plt.ylabel('Position')\n",
    "plt.colorbar()\n",
    "plt.show()"
   ]
  },
  {
   "cell_type": "markdown",
   "metadata": {},
   "source": [
    "## Masking\n",
    "\n",
    "### Padding mask\n",
    "\n",
    "Mask all the pad tokens in the batch of sequence. It ensures that the model does not treat padding as the input. The mask indicates where pad value `0` is present: it outputs a `1` at those locations, and a `0` otherwise.\n",
    "\n",
    "The padding mask is used as follows: \n",
    "\n",
    "`scaled_attention_logits += (mask * -1e9)`\n",
    "\n",
    "before it is passed to a softmax layer which turns the numbers corresponding to the padding into really small numbers (really big negative numbers), hence becoming asymptotically 0 when softmax is applied on them."
   ]
  },
  {
   "cell_type": "code",
   "execution_count": 22,
   "metadata": {},
   "outputs": [],
   "source": [
    "# seq: (batch_size, seq_len)\n",
    "def create_padding_mask(seq):\n",
    "    seq = tf.cast(tf.math.equal(seq, 0), tf.float32)\n",
    "    \n",
    "    # add extra dimensions so that we can add the padding\n",
    "    # to the attention logits\n",
    "    return seq[:, tf.newaxis, tf.newaxis, :] # (batch_size, 1, 1, seq_len)"
   ]
  },
  {
   "cell_type": "markdown",
   "metadata": {},
   "source": [
    "See how it works"
   ]
  },
  {
   "cell_type": "code",
   "execution_count": 23,
   "metadata": {},
   "outputs": [
    {
     "data": {
      "text/plain": [
       "<tf.Tensor: id=311425, shape=(3, 1, 1, 5), dtype=float32, numpy=\n",
       "array([[[[0., 0., 1., 1., 0.]]],\n",
       "\n",
       "\n",
       "       [[[0., 0., 0., 1., 1.]]],\n",
       "\n",
       "\n",
       "       [[[1., 1., 1., 0., 0.]]]], dtype=float32)>"
      ]
     },
     "execution_count": 23,
     "metadata": {},
     "output_type": "execute_result"
    }
   ],
   "source": [
    "x = tf.constant([[7, 6, 0, 0, 1], [1, 2, 3, 0, 0], [0, 0, 0, 4, 5]])\n",
    "create_padding_mask(x)"
   ]
  },
  {
   "cell_type": "markdown",
   "metadata": {},
   "source": [
    "### Look ahead mask\n",
    "\n",
    "The mask indicates \"future\" elements in a sequence that come after the current element.\n",
    "\n",
    "The look ahead mask is used as follows: \n",
    "\n",
    "`scaled_attention_logits += (mask * -1e9)`\n",
    "\n",
    "before it is passed to a softmax layer which turns the numbers corresponding to the padding into really small numbers (really big negative numbers), hence becoming asymptotically 0 when softmax is applied on them."
   ]
  },
  {
   "cell_type": "code",
   "execution_count": 24,
   "metadata": {},
   "outputs": [],
   "source": [
    "# size: (seq_len)\n",
    "def create_look_ahead_mask(size):\n",
    "    # lower triangular part\n",
    "    mask = 1 - tf.linalg.band_part(tf.ones((size, size)), -1, 0)\n",
    "    return mask # (seq_len, seq_len)"
   ]
  },
  {
   "cell_type": "markdown",
   "metadata": {},
   "source": [
    "See how it works"
   ]
  },
  {
   "cell_type": "code",
   "execution_count": 25,
   "metadata": {},
   "outputs": [
    {
     "data": {
      "text/plain": [
       "(<tf.Tensor: id=311433, shape=(1, 3), dtype=float32, numpy=array([[0.6162896 , 0.38960636, 0.88371134]], dtype=float32)>,\n",
       " <tf.Tensor: id=311441, shape=(3, 3), dtype=float32, numpy=\n",
       " array([[0., 1., 1.],\n",
       "        [0., 0., 1.],\n",
       "        [0., 0., 0.]], dtype=float32)>)"
      ]
     },
     "execution_count": 25,
     "metadata": {},
     "output_type": "execute_result"
    }
   ],
   "source": [
    "x = tf.random.uniform((1, 3))\n",
    "temp = create_look_ahead_mask(x.shape[1])\n",
    "x, temp"
   ]
  },
  {
   "cell_type": "markdown",
   "metadata": {},
   "source": [
    "### Combined mask\n",
    "\n",
    "Both the look ahead mask and padding mask are applied at the decoder layer like below:"
   ]
  },
  {
   "cell_type": "code",
   "execution_count": 26,
   "metadata": {},
   "outputs": [
    {
     "name": "stdout",
     "output_type": "stream",
     "text": [
      "Input shape: (2, 4)\n",
      "Padding mask shape: (2, 1, 1, 4)\n",
      "Look ahead mask shape: (4, 4)\n",
      "Combined mask shape: (2, 1, 4, 4)\n"
     ]
    }
   ],
   "source": [
    "x = tf.constant([[1, 2, 3, 4], [1, 2, 3, 4]])\n",
    "\n",
    "padding_mask = create_padding_mask(x)\n",
    "look_ahead_mask = create_look_ahead_mask(x.shape[1])\n",
    "\n",
    "# combine both masks\n",
    "combined_mask = tf.maximum(look_ahead_mask, padding_mask)\n",
    "\n",
    "print('Input shape: {}'.format(x.shape))\n",
    "print('Padding mask shape: {}'.format(padding_mask.shape))\n",
    "print('Look ahead mask shape: {}'.format(look_ahead_mask.shape))\n",
    "print('Combined mask shape: {}'.format(combined_mask.shape))"
   ]
  },
  {
   "cell_type": "markdown",
   "metadata": {},
   "source": [
    "## Scaled Dot-Product Attention\n",
    "\n",
    "![scaled_attention](scaled_attention.png)\n",
    "\n",
    "The attention function used by the transformer takes three inputs: \n",
    "* Q (query)\n",
    "* K (key)\n",
    "* V (value)\n",
    "\n",
    "The equation used to calculate the attention weights is:\n",
    "\n",
    "$$\\Large{Attention(Q, K, V) = softmax_k(\\frac{QK^T}{\\sqrt{d_k}}) V} $$"
   ]
  },
  {
   "cell_type": "code",
   "execution_count": 27,
   "metadata": {},
   "outputs": [],
   "source": [
    "def scaled_dot_product_attention(q, k, v, mask):\n",
    "    \"\"\"\n",
    "    Calculate the attention weights.\n",
    "    q, k, v must have matching leading dimensions.\n",
    "    k, v must have matching penultimate dimension, i.e.: seq_len_k = seq_len_v.\n",
    "    The mask has different shapes depending on its type(padding or look ahead) \n",
    "    but it must be broadcastable for addition.\n",
    "\n",
    "    Args:\n",
    "    q: query shape == (batch_size, num_heads, seq_len_q, depth)\n",
    "    k: key shape   == (batch_size, num_heads, seq_len_k, depth)\n",
    "    v: value shape == (batch_size, num_heads, seq_len_v, depth_v)\n",
    "    mask: Float tensor with shape broadcastable \n",
    "          to (..., seq_len_q, seq_len_k). Defaults to None.\n",
    "\n",
    "    Returns:\n",
    "    output, attention_weights\n",
    "    \"\"\"\n",
    "    \n",
    "    # transpose_b => transpose the last two dimensions of \n",
    "    # second argument to the function\n",
    "    # (batch_size, num_heads, seq_len_q, seq_len_k)\n",
    "    matmul_qk = tf.matmul(q, k, transpose_b=True)\n",
    "    \n",
    "    # scale matmul_qk\n",
    "    dk = tf.cast(tf.shape(k)[-1], tf.float32)\n",
    "    scaled_attention_logits = matmul_qk / tf.math.sqrt(dk)\n",
    "    \n",
    "    # add the mask to the scaled tensor\n",
    "    # multiplication by -1e9 forces the masked values to be\n",
    "    # really small, hence 0 after softmax is applied\n",
    "    # (batch_size, num_heads, seq_len_q, seq_len_k)\n",
    "    if mask is not None:\n",
    "        scaled_attention_logits += (mask * -1e9)\n",
    "        \n",
    "    # softmax is normalized on the last axis (seq_len_k) so that the scores\n",
    "    # add up to 1\n",
    "    # (batch_size, num_heads, seq_len_q, seq_len_k)\n",
    "    attention_weights = tf.nn.softmax(scaled_attention_logits, axis=-1) \n",
    "    \n",
    "    # (batch_size, num_heads, seq_len_q, seq_len_k) * (batch_size, num_heads, seq_len_v, depth_v)\n",
    "    # = (batch_size, num_heads, seq_len_q, depth_v)\n",
    "    output = tf.matmul(attention_weights, v) \n",
    "    \n",
    "    return output, attention_weights"
   ]
  },
  {
   "cell_type": "markdown",
   "metadata": {},
   "source": [
    "As the softmax normalization is done on K, its values decide the amount of importance given to Q.\n",
    "\n",
    "The output represents the multiplication of the attention weights and V (value) vector. This ensures that the words we want to focus on are kept as is and the irrelevant words are flushed out."
   ]
  },
  {
   "cell_type": "code",
   "execution_count": 28,
   "metadata": {},
   "outputs": [],
   "source": [
    "def print_out(q, k, v):\n",
    "    temp_out, temp_attn = scaled_dot_product_attention(q, k, v, None)\n",
    "    print('Output = Attention weights * Values')\n",
    "    print()\n",
    "    print('Attention weights are:')\n",
    "    print(temp_attn)\n",
    "    print()\n",
    "    print('Values are:')\n",
    "    print(v)\n",
    "    print()\n",
    "    print('Output is:')\n",
    "    print(temp_out)"
   ]
  },
  {
   "cell_type": "code",
   "execution_count": 29,
   "metadata": {},
   "outputs": [
    {
     "name": "stdout",
     "output_type": "stream",
     "text": [
      "Output = Attention weights * Values\n",
      "\n",
      "Attention weights are:\n",
      "tf.Tensor([[0. 1. 0. 0.]], shape=(1, 4), dtype=float32)\n",
      "\n",
      "Values are:\n",
      "tf.Tensor(\n",
      "[[   1.    0.]\n",
      " [  10.    0.]\n",
      " [ 100.    5.]\n",
      " [1000.    6.]], shape=(4, 2), dtype=float32)\n",
      "\n",
      "Output is:\n",
      "tf.Tensor([[10.  0.]], shape=(1, 2), dtype=float32)\n"
     ]
    }
   ],
   "source": [
    "np.set_printoptions(suppress=True)\n",
    "\n",
    "temp_k = tf.constant([[10,0,0],\n",
    "                      [0,10,0],\n",
    "                      [0,0,10],\n",
    "                      [0,0,10]], dtype=tf.float32)\n",
    "\n",
    "temp_v = tf.constant([[1,0],\n",
    "                      [10,0],\n",
    "                      [100,5],\n",
    "                      [1000,6]], dtype=tf.float32)\n",
    "\n",
    "# this `query` aligns with the second `key`,\n",
    "# so the second `value` is returned.\n",
    "temp_q = tf.constant([[0,10,0]], dtype=tf.float32)\n",
    "print_out(temp_q, temp_k, temp_v)"
   ]
  },
  {
   "cell_type": "code",
   "execution_count": 30,
   "metadata": {},
   "outputs": [
    {
     "name": "stdout",
     "output_type": "stream",
     "text": [
      "Output = Attention weights * Values\n",
      "\n",
      "Attention weights are:\n",
      "tf.Tensor([[0.  0.  0.5 0.5]], shape=(1, 4), dtype=float32)\n",
      "\n",
      "Values are:\n",
      "tf.Tensor(\n",
      "[[   1.    0.]\n",
      " [  10.    0.]\n",
      " [ 100.    5.]\n",
      " [1000.    6.]], shape=(4, 2), dtype=float32)\n",
      "\n",
      "Output is:\n",
      "tf.Tensor([[550.    5.5]], shape=(1, 2), dtype=float32)\n"
     ]
    }
   ],
   "source": [
    "# this query aligns with a repeated key (third and fourth),\n",
    "# so all associated values get averaged\n",
    "temp_q = tf.constant([[0, 0, 10]], dtype=tf.float32)\n",
    "print_out(temp_q, temp_k, temp_v)"
   ]
  },
  {
   "cell_type": "code",
   "execution_count": 31,
   "metadata": {},
   "outputs": [
    {
     "name": "stdout",
     "output_type": "stream",
     "text": [
      "Output = Attention weights * Values\n",
      "\n",
      "Attention weights are:\n",
      "tf.Tensor([[0.5 0.5 0.  0. ]], shape=(1, 4), dtype=float32)\n",
      "\n",
      "Values are:\n",
      "tf.Tensor(\n",
      "[[   1.    0.]\n",
      " [  10.    0.]\n",
      " [ 100.    5.]\n",
      " [1000.    6.]], shape=(4, 2), dtype=float32)\n",
      "\n",
      "Output is:\n",
      "tf.Tensor([[5.5 0. ]], shape=(1, 2), dtype=float32)\n"
     ]
    }
   ],
   "source": [
    "# this query aligns equally with the first and second key,\n",
    "# so their values get averaged\n",
    "temp_q = tf.constant([[10, 10, 0]], dtype=tf.float32)\n",
    "print_out(temp_q, temp_k, temp_v)"
   ]
  },
  {
   "cell_type": "markdown",
   "metadata": {},
   "source": [
    "Pass all the queries together"
   ]
  },
  {
   "cell_type": "code",
   "execution_count": 32,
   "metadata": {},
   "outputs": [
    {
     "name": "stdout",
     "output_type": "stream",
     "text": [
      "Output = Attention weights * Values\n",
      "\n",
      "Attention weights are:\n",
      "tf.Tensor(\n",
      "[[0.  0.  0.5 0.5]\n",
      " [0.  1.  0.  0. ]\n",
      " [0.5 0.5 0.  0. ]], shape=(3, 4), dtype=float32)\n",
      "\n",
      "Values are:\n",
      "tf.Tensor(\n",
      "[[   1.    0.]\n",
      " [  10.    0.]\n",
      " [ 100.    5.]\n",
      " [1000.    6.]], shape=(4, 2), dtype=float32)\n",
      "\n",
      "Output is:\n",
      "tf.Tensor(\n",
      "[[550.    5.5]\n",
      " [ 10.    0. ]\n",
      " [  5.5   0. ]], shape=(3, 2), dtype=float32)\n"
     ]
    }
   ],
   "source": [
    "temp_q = tf.constant([[0, 0, 10], [0, 10, 0], [10, 10, 0]], dtype=tf.float32)\n",
    "print_out(temp_q, temp_k, temp_v)"
   ]
  },
  {
   "cell_type": "markdown",
   "metadata": {},
   "source": [
    "## Multi-head attention\n",
    "\n",
    "![multi_head_attention](multi_head_attention.png)\n",
    "\n",
    "Multi-head attention consists of four parts:\n",
    "* Linear layers and split into heads\n",
    "* Scaled dot-product attention\n",
    "* Concatenation of heads\n",
    "* Final linear layer\n",
    "\n",
    "Each multi-head attention block gets three inputs:\n",
    "* Q (query)\n",
    "* K (key)\n",
    "* V (value)\n",
    "\n",
    "These are put through linear (Dense) layers and split up into multiple heads.\n",
    "\n",
    "The `scaled_dot_product_attention` defined above is applied to each head (broadcasted for efficiency). An appropriate mask must be used in the attention step. The attention output for each head is then concatenated (using `tf.transpose` and `tf.reshape`) and put through a final `Dense` layer.\n",
    "\n",
    "Instead of one single attention head, Q, K, and V are split into multiple heads **because** it allows the model to jointly attend to information at different positions from different representational spaces. After the split each head has a reduced dimensionality, so the total computation cost is the same as a single head attention with full dimensionality."
   ]
  },
  {
   "cell_type": "code",
   "execution_count": 33,
   "metadata": {},
   "outputs": [],
   "source": [
    "class MultiHeadAttention(tf.keras.layers.Layer):\n",
    "    def __init__(self, d_model, num_heads):\n",
    "        super(MultiHeadAttention, self).__init__()\n",
    "        self.num_heads = num_heads\n",
    "        self.d_model = d_model\n",
    "        \n",
    "        assert d_model % self.num_heads == 0\n",
    "        \n",
    "        self.depth = d_model // self.num_heads\n",
    "        \n",
    "        self.wq = tf.keras.layers.Dense(d_model)\n",
    "        self.wk = tf.keras.layers.Dense(d_model)\n",
    "        self.wv = tf.keras.layers.Dense(d_model)\n",
    "        \n",
    "        self.dense = tf.keras.layers.Dense(d_model)\n",
    "        \n",
    "    def split_heads(self, x, batch_size):\n",
    "        \"\"\"\n",
    "        split the last dimension into (num_heads, depth)\n",
    "        transpose the result such that the shape is (batch_size, num_heads, seq_len, depth)\n",
    "        \"\"\"\n",
    "        x = tf.reshape(x, (batch_size, -1, self.num_heads, self.depth))\n",
    "        return tf.transpose(x, perm=[0, 2, 1, 3])\n",
    "    \n",
    "    def call(self, v, k, q, mask):\n",
    "        batch_size = tf.shape(q)[0]\n",
    "        \n",
    "        q = self.wq(q) # (batch_size, seq_len, d_model)\n",
    "        k = self.wk(k) # (batch_size, seq_len, d_model)\n",
    "        v = self.wv(v) # (batch_size, seq_len, d_model)\n",
    "        \n",
    "        q = self.split_heads(q, batch_size) # (batch_size, num_heads, seq_len_q, depth)\n",
    "        k = self.split_heads(k, batch_size) # (batch_size, num_heads, seq_len_k, depth)\n",
    "        v = self.split_heads(v, batch_size) # (batch_size, num_heads, seq_len_v, depth)\n",
    "        \n",
    "        # scaled_attention.shape == (batch_size, num_heads, seq_len_v, depth)\n",
    "        # attention_weights.shape == (batch_size, num_heads, seq_len_q, seq_len_k)\n",
    "        scaled_attention, attention_weights = scaled_dot_product_attention(q, k, v, mask) \n",
    "        scaled_attention = tf.transpose(scaled_attention, perm=[0, 2, 1, 3]) # (batch_size, seq_len_v, num_heads, depth)\n",
    "        concat_attention = tf.reshape(scaled_attention, (batch_size, -1, self.d_model)) # (batch_size, seq_len_v, d_model)\n",
    "        \n",
    "        output = self.dense(concat_attention) # (batch_size, seq_len_v, d_model)\n",
    "        \n",
    "        return output, attention_weights"
   ]
  },
  {
   "cell_type": "markdown",
   "metadata": {},
   "source": [
    "At each location in the sequence `y`, the `MultiHeadAttention` runs all 8 attention heads across all other locations in the sequence, returning a new vector of the same length at each location."
   ]
  },
  {
   "cell_type": "code",
   "execution_count": 34,
   "metadata": {},
   "outputs": [
    {
     "data": {
      "text/plain": [
       "(TensorShape([1, 60, 512]), TensorShape([1, 8, 60, 60]))"
      ]
     },
     "execution_count": 34,
     "metadata": {},
     "output_type": "execute_result"
    }
   ],
   "source": [
    "temp_mha = MultiHeadAttention(d_model=512, num_heads=8)\n",
    "y = tf.random.uniform((1, 60, 512)) # (batch_size, encoder_sequence_length, d_model)\n",
    "out, attn = temp_mha(y, k=y, q=y, mask=None)\n",
    "out.shape, attn.shape"
   ]
  },
  {
   "cell_type": "markdown",
   "metadata": {},
   "source": [
    "Below example shows how multi-head attention works"
   ]
  },
  {
   "cell_type": "code",
   "execution_count": 35,
   "metadata": {
    "scrolled": false
   },
   "outputs": [
    {
     "name": "stdout",
     "output_type": "stream",
     "text": [
      "Shape of multi-head attention block input: (3, 5, 128)\n",
      "Shape of input split heads: (3, 8, 5, 16)\n",
      "Shape of matrix multiplication between Q and K: (3, 8, 5, 5)\n",
      "Shape of combined mask: (3, 1, 5, 5)\n",
      "Shape of masked matrix multiplication between Q and K: (3, 8, 5, 5)\n",
      "Shape of attention weights: (3, 8, 5, 5)\n",
      "Shape of scaled dot product attention output: (3, 8, 5, 16)\n",
      "Shape of transposed multi head attention outputs: (3, 5, 8, 16)\n",
      "Shape of concatenated multi head attention outputs: (3, 5, 128)\n"
     ]
    }
   ],
   "source": [
    "batch_size = 3\n",
    "seq_len = 5\n",
    "d_model = 128\n",
    "num_heads = 8\n",
    "depth = d_model // num_heads # 128/8 = 16\n",
    "raw_input = tf.ones((batch_size, seq_len))\n",
    "embedding_matrix = tf.ones((batch_size, seq_len, d_model))\n",
    "\n",
    "print('Shape of multi-head attention block input: {}'.format(embedding_matrix.shape))\n",
    "\n",
    "# split inputs into multiple heads\n",
    "def split_heads(embedding_matrix):\n",
    "    embedding_matrix = tf.reshape(embedding_matrix, (batch_size, -1, num_heads, depth))\n",
    "    embedding_matrix = tf.transpose(embedding_matrix, perm=[0, 2, 1, 3])\n",
    "    return embedding_matrix\n",
    "\n",
    "q = split_heads(embedding_matrix) # (batch_size, num_heads, seq_len_q, depth)\n",
    "k = split_heads(embedding_matrix) # (batch_size, num_heads, seq_len_k, depth)\n",
    "v = split_heads(embedding_matrix) # (batch_size, num_heads, seq_len_v, depth)\n",
    "\n",
    "print('Shape of input split heads: {}'.format(q.shape))\n",
    "\n",
    "# matrix multiplication in scaled dot-product attention layer\n",
    "matmul_qk = tf.matmul(q, k, transpose_b=True)\n",
    "\n",
    "print('Shape of matrix multiplication between Q and K: {}'.format(matmul_qk.shape))\n",
    "\n",
    "# create combined mask\n",
    "combined_mask = tf.maximum( create_look_ahead_mask(raw_input.shape[1]), create_padding_mask(raw_input))\n",
    "\n",
    "print('Shape of combined mask: {}'.format(combined_mask.shape))\n",
    "\n",
    "# apply combined mask\n",
    "masked_matmul_qk = matmul_qk + (combined_mask * -1e9)\n",
    "\n",
    "print('Shape of masked matrix multiplication between Q and K: {}'.format(masked_matmul_qk.shape))\n",
    "\n",
    "# apply softmax\n",
    "attention_weights = tf.nn.softmax(masked_matmul_qk, axis=-1)\n",
    "\n",
    "print('Shape of attention weights: {}'.format(attention_weights.shape))\n",
    "\n",
    "# scaled dot product attention output\n",
    "scaled_dot_product_attention_output = tf.matmul(attention_weights, v)\n",
    "\n",
    "print('Shape of scaled dot product attention output: {}'.format(scaled_dot_product_attention_output.shape))\n",
    "\n",
    "# transpose multi head attention outputs\n",
    "scaled_attention = tf.transpose(scaled_dot_product_attention_output, perm=[0, 2, 1, 3])\n",
    "\n",
    "print('Shape of transposed multi head attention outputs: {}'.format(scaled_attention.shape))\n",
    "\n",
    "# concatenate multi head attention outputs\n",
    "concat_attention = tf.reshape(scaled_attention, (batch_size, -1, d_model))\n",
    "\n",
    "print('Shape of concatenated multi head attention outputs: {}'.format(concat_attention.shape))"
   ]
  },
  {
   "cell_type": "markdown",
   "metadata": {},
   "source": [
    "As one can see, the multi-head attention block input undergoes multiple shape transformations before ends with its initial shape."
   ]
  },
  {
   "cell_type": "markdown",
   "metadata": {},
   "source": [
    "## Point wise feed forward network\n",
    "\n",
    "Point wise feed forward network consists of two fully-connected layers with a ReLU activation in between."
   ]
  },
  {
   "cell_type": "code",
   "execution_count": 36,
   "metadata": {},
   "outputs": [],
   "source": [
    "# dff is feed forward layer hidden units\n",
    "def point_wise_feed_forward_network(d_model, dff):\n",
    "    return tf.keras.Sequential([\n",
    "        tf.keras.layers.Dense(dff, activation='relu'), # (batch_size, seq_len, dff)\n",
    "        tf.keras.layers.Dense(d_model) # (batch_size, seq_len, d_model)\n",
    "    ])"
   ]
  },
  {
   "cell_type": "code",
   "execution_count": 37,
   "metadata": {},
   "outputs": [
    {
     "data": {
      "text/plain": [
       "TensorShape([64, 50, 512])"
      ]
     },
     "execution_count": 37,
     "metadata": {},
     "output_type": "execute_result"
    }
   ],
   "source": [
    "sample_ffn = point_wise_feed_forward_network(512, 2048)\n",
    "sample_ffn(tf.random.uniform((64, 50, 512))).shape"
   ]
  },
  {
   "cell_type": "markdown",
   "metadata": {},
   "source": [
    "## Encoder and Decoder"
   ]
  },
  {
   "cell_type": "markdown",
   "metadata": {},
   "source": [
    "![transformer](transformer.png)\n",
    "\n",
    "The transformer model follows the same general pattern as a standard sequence to sequence with attention model.\n",
    "* The input sentence is passed through `N` encoder layers that generate an output for each word/token in the sequence.\n",
    "* The decoder attends on the encoder's output and its own input (self-attention) to predict the next word.\n",
    "\n",
    "`tf.keras.layers.LayerNormalization` is not available in TensorFlow 2.0 by the time of this writing. Thus we need to use our own function."
   ]
  },
  {
   "cell_type": "code",
   "execution_count": 38,
   "metadata": {},
   "outputs": [],
   "source": [
    "def layer_normalization(inputs, epsilon = 1e-8, scope=\"layer_normalization\"):\n",
    "    '''\n",
    "    Applies layer normalization. See https://arxiv.org/abs/1607.06450.\n",
    "    inputs: A tensor with 2 or more dimensions, where the first dimension has `batch_size`.\n",
    "    epsilon: A floating number. A very small number for preventing ZeroDivision Error.\n",
    "    scope: Optional scope for `variable_scope`.\n",
    "      \n",
    "    Returns:\n",
    "      A tensor with the same shape and data dtype as `inputs`.\n",
    "    '''\n",
    "    \n",
    "    inputs_shape = inputs.get_shape()\n",
    "    params_shape = inputs_shape[-1:]\n",
    "\n",
    "    mean, variance = tf.nn.moments(inputs, [-1], keepdims=True)\n",
    "    \n",
    "    # TODO: figure out how to instantiate the variable only once\n",
    "    # in the meantime, we can comment them out because\n",
    "    # they do not affect the outputs\n",
    "    #beta = tf.Variable(tf.zeros(shape=params_shape), name=\"beta\")\n",
    "    #gamma = tf.Variable(tf.ones(shape=params_shape), name=\"gamma\")\n",
    "    \n",
    "    normalized = (inputs - mean) / ( (variance + epsilon) ** (.5) )\n",
    "    # TODO: figure out how to instantiate the variable only once\n",
    "    # in the meantime, we can comment them out because\n",
    "    # they do not affect the outputs\n",
    "    #outputs = gamma * normalized + beta\n",
    "    outputs = normalized\n",
    "        \n",
    "    return outputs"
   ]
  },
  {
   "cell_type": "markdown",
   "metadata": {},
   "source": [
    "### Encoder layer\n",
    "\n",
    "Each encoder layer consists of sublayers:\n",
    "1. Multi-head attention (with padding mask)\n",
    "2. Point wise feed forward networks\n",
    "\n",
    "Each of these sublayers has a residual connection around it followed by a layer normalization. Residual connections help in avoiding the vanishing gradient problem in deep networks.\n",
    "\n",
    "The output of each sublayer is `LayerNorm(x + Sublayer(x))`. The normalization is done on the `d_model` (last) axis. There are N encoder layers in the transformer."
   ]
  },
  {
   "cell_type": "code",
   "execution_count": 39,
   "metadata": {},
   "outputs": [],
   "source": [
    "class EncoderLayer(tf.keras.layers.Layer):\n",
    "    def __init__(self, d_model, num_heads, dff, rate=0.1):\n",
    "        super(EncoderLayer, self).__init__()\n",
    "        \n",
    "        self.mha = MultiHeadAttention(d_model, num_heads)\n",
    "        self.ffn = point_wise_feed_forward_network(d_model, dff)\n",
    "        \n",
    "        # TODO: uncomment below when they become available in TensorFlow 2.0\n",
    "        #self.layernorm1 = tf.keras.layers.LayerNormalization(epsilon=1e-6)\n",
    "        #self.layernorm2 = tf.keras.layers.LayerNormalization(epsilon=1e-6)\n",
    "        \n",
    "        self.dropout1 = tf.keras.layers.Dropout(rate)\n",
    "        self.dropout2 = tf.keras.layers.Dropout(rate)\n",
    "        \n",
    "    def call(self, x, training, mask):\n",
    "        attn_output, _ = self.mha(x, x, x, mask) # (batch_size, input_seq_len, d_model)\n",
    "        attn_output = self.dropout1(attn_output, training=training)\n",
    "        out1 = layer_normalization(x + attn_output, epsilon=1e-6) # (batch_size, input_seq_len, d_model)\n",
    "        \n",
    "        ffn_output = self.ffn(out1) # (batch_size, input_seq_len, d_model)\n",
    "        ffn_output = self.dropout2(ffn_output, training=training)\n",
    "        out2 = layer_normalization(out1 + ffn_output, epsilon=1e-6) # (batch_size, input_seq_len, d_model)\n",
    "        \n",
    "        return out2"
   ]
  },
  {
   "cell_type": "code",
   "execution_count": 40,
   "metadata": {},
   "outputs": [
    {
     "data": {
      "text/plain": [
       "TensorShape([64, 43, 512])"
      ]
     },
     "execution_count": 40,
     "metadata": {},
     "output_type": "execute_result"
    }
   ],
   "source": [
    "sample_encoder_layer = EncoderLayer(512, 8, 2048)\n",
    "\n",
    "sample_encoder_layer_output = sample_encoder_layer(\n",
    "    tf.random.uniform((64, 43, 512)), False, None)\n",
    "\n",
    "sample_encoder_layer_output.shape # (batch_size, input_seq_len, d_model)"
   ]
  },
  {
   "cell_type": "markdown",
   "metadata": {},
   "source": [
    "### Decoder layer\n",
    "\n",
    "Each decoder layer consists of sublayers:\n",
    "1. Masked multi-head attention (with look ahead mask and padding mask)\n",
    "2. Multi-head attention (with padding mask). V (value) and K (key) receive the encoder output as inputs. Q (query) receives the output from the masked multi-head attention sublayer\n",
    "3. Point wise feed forward networks\n",
    "\n",
    "Each of these sublayers has a residual connection around it followed by a layer normalization. The output of each sublayer is `LayerNorm(x + Sublayer(x))`. The normalization is done on the `d_model` (last) axis.\n",
    "\n",
    "There are N decoder layers in the transformer.\n",
    "\n",
    "As Q receives the output from decoder's first attention block, and K receives the encoder output, the attention weights represent the importance given to the decoder's input based on the encoder's output. In other words, the decoder predicts the next word by looking at the encoder output and self-attending to its own output."
   ]
  },
  {
   "cell_type": "code",
   "execution_count": 41,
   "metadata": {},
   "outputs": [],
   "source": [
    "class DecoderLayer(tf.keras.layers.Layer):\n",
    "    def __init__(self, d_model, num_heads, dff, rate=0.1):\n",
    "        super(DecoderLayer, self).__init__()\n",
    "        \n",
    "        self.mha1 = MultiHeadAttention(d_model, num_heads)\n",
    "        self.mha2 = MultiHeadAttention(d_model, num_heads)\n",
    "        \n",
    "        self.ffn = point_wise_feed_forward_network(d_model, dff)\n",
    "        \n",
    "        self.dropout1 = tf.keras.layers.Dropout(rate)\n",
    "        self.dropout2 = tf.keras.layers.Dropout(rate)\n",
    "        self.dropout3 = tf.keras.layers.Dropout(rate)\n",
    "        \n",
    "    def call(self, x, enc_output, training, look_ahead_mask, padding_mask):\n",
    "        # enc_output.shape == (batch_size, input_seq_len, d_model)\n",
    "        \n",
    "        attn1, attn_weights_block1 = self.mha1(\n",
    "            x, x, x, look_ahead_mask) # (batch_size, target_seq_len, d_model)\n",
    "        attn1 = self.dropout1(attn1, training=training)\n",
    "        out1 = layer_normalization(attn1 + x, epsilon=1e-6)\n",
    "        \n",
    "        attn2, attn_weights_block2 = self.mha2(\n",
    "            enc_output, enc_output, out1, padding_mask) # (batch_size, target_seq_len, d_model)\n",
    "        attn2 = self.dropout2(attn2, training=training)\n",
    "        out2 = layer_normalization(attn2 + out1, epsilon=1e-6) # (batch_size, target_seq_len, d_model)\n",
    "        \n",
    "        ffn_output = self.ffn(out2) # (batch_size, target_seq_len, d_model)\n",
    "        ffn_output = self.dropout3(ffn_output, training=training)\n",
    "        out3 = layer_normalization(ffn_output + out2) # (batch_size, target_seq_len, d_model)\n",
    "        \n",
    "        return out3, attn_weights_block1, attn_weights_block2"
   ]
  },
  {
   "cell_type": "code",
   "execution_count": 42,
   "metadata": {},
   "outputs": [
    {
     "data": {
      "text/plain": [
       "TensorShape([64, 50, 512])"
      ]
     },
     "execution_count": 42,
     "metadata": {},
     "output_type": "execute_result"
    }
   ],
   "source": [
    "sample_decoder_layer = DecoderLayer(512, 8, 2048)\n",
    "\n",
    "sample_decoder_layer_output, _, _, = sample_decoder_layer(\n",
    "    tf.random.uniform((64, 50, 512)), sample_encoder_layer_output, \n",
    "    False, None, None)\n",
    "\n",
    "sample_decoder_layer_output.shape # (batch_size, target_seq_len, d_model)"
   ]
  },
  {
   "cell_type": "markdown",
   "metadata": {},
   "source": [
    "### Encoder\n",
    "\n",
    "Encoder consists of:\n",
    "1. Input Embedding\n",
    "2. Positional Encoding\n",
    "3. N encoder layers\n",
    "\n",
    "The input is put through an embedding which is summed with the positional encoding. The output of this summation is the input to the encoder layers. The output of the encoder is the input to the decoder."
   ]
  },
  {
   "cell_type": "code",
   "execution_count": 43,
   "metadata": {},
   "outputs": [],
   "source": [
    "class Encoder(tf.keras.layers.Layer):\n",
    "    def __init__(self, num_layers, d_model, num_heads, dff, input_vocab_size, rate=0.1):\n",
    "        super(Encoder, self).__init__()\n",
    "        \n",
    "        self.d_model = d_model\n",
    "        self.num_layers = num_layers\n",
    "        \n",
    "        self.embedding = tf.keras.layers.Embedding(input_vocab_size, d_model)\n",
    "        self.pos_encoding = positional_encoding(input_vocab_size, self.d_model)\n",
    "        \n",
    "        self.enc_layers = [EncoderLayer(d_model, num_heads, dff, rate) \n",
    "                           for _ in range(num_layers)]\n",
    "        \n",
    "        self.dropout = tf.keras.layers.Dropout(rate)\n",
    "        \n",
    "    def call(self, x, training, mask):\n",
    "        seq_len = tf.shape(x)[1]\n",
    "        \n",
    "        x = self.embedding(x) # (batch_size, input_seq_len, d_model)\n",
    "        x *= tf.math.sqrt(tf.cast(self.d_model, tf.float32))\n",
    "        \n",
    "        # add the positional encoding matrix to the embedding matrix\n",
    "        # embedding shape: (batch_size, input_seq_len, d_model)\n",
    "        # positional encoding shape: (1, input_seq_len, d_model)\n",
    "        # the positional encoding matrix is broadcast \n",
    "        # across the embedding matrix\n",
    "        x += self.pos_encoding[:, :seq_len, :]\n",
    "        \n",
    "        x = self.dropout(x, training=training)\n",
    "        \n",
    "        for i in range(self.num_layers):\n",
    "            x = self.enc_layers[i](x, training, mask)\n",
    "            \n",
    "        return x # (batch_size, input_seq_len, d_model)"
   ]
  },
  {
   "cell_type": "code",
   "execution_count": 44,
   "metadata": {},
   "outputs": [
    {
     "name": "stdout",
     "output_type": "stream",
     "text": [
      "(64, 62, 512)\n"
     ]
    }
   ],
   "source": [
    "sample_encoder = Encoder(num_layers=2, \n",
    "                         d_model=512, \n",
    "                         num_heads=8, \n",
    "                         dff=2048, \n",
    "                         input_vocab_size=8500)\n",
    "\n",
    "sample_encoder_output = sample_encoder(tf.random.uniform((64, 62)), \n",
    "                                       training=False, \n",
    "                                       mask=None)\n",
    "\n",
    "print(sample_encoder_output.shape) # (batch_size, input_seq_len, d_model)"
   ]
  },
  {
   "cell_type": "markdown",
   "metadata": {},
   "source": [
    "### Decoder\n",
    "\n",
    "Decoder consists of:\n",
    "1. Output Embedding\n",
    "2. Positional Encoding\n",
    "3. N decoder layers\n",
    "\n",
    "The target is put through an embedding which is summed with the positional encoding. The output of this summation is the input to the decoder layers. The output of the decoder is the input to the final linear layer."
   ]
  },
  {
   "cell_type": "code",
   "execution_count": 45,
   "metadata": {},
   "outputs": [],
   "source": [
    "class Decoder(tf.keras.layers.Layer):\n",
    "    def __init__(self, num_layers, d_model, num_heads, dff, target_vocab_size, rate=0.1):\n",
    "        super(Decoder, self).__init__()\n",
    "        \n",
    "        self.d_model = d_model\n",
    "        self.num_layers = num_layers\n",
    "        \n",
    "        self.embedding = tf.keras.layers.Embedding(target_vocab_size, d_model)\n",
    "        self.pos_encoding = positional_encoding(target_vocab_size, self.d_model)\n",
    "        \n",
    "        self.dec_layers = [DecoderLayer(d_model, num_heads, dff, rate) for _ in range(num_layers)]\n",
    "        self.dropout = tf.keras.layers.Dropout(rate)\n",
    "        \n",
    "    def call(self, x, enc_output, training, look_ahead_mask, padding_mask):\n",
    "        seq_len = tf.shape(x)[1]\n",
    "        attention_weights = {}\n",
    "        \n",
    "        x = self.embedding(x) # (batch_size, target_seq_len, d_model)\n",
    "        x *= tf.math.sqrt(tf.cast(self.d_model, tf.float32))\n",
    "        x += self.pos_encoding[:, :seq_len, :]\n",
    "        \n",
    "        x = self.dropout(x, training=training)\n",
    "        \n",
    "        for i in range(self.num_layers):\n",
    "            x, block1, block2 = self.dec_layers[i](x, enc_output, training, look_ahead_mask, padding_mask)\n",
    "            \n",
    "            attention_weights['decoder_layer{}_block1'.format(i+1)] = block1\n",
    "            attention_weights['decoder_layer{}_block2'.format(i+1)] = block2\n",
    "            \n",
    "        # x.shape == (batch_size, target_seq_len, d_model)\n",
    "        return x, attention_weights"
   ]
  },
  {
   "cell_type": "code",
   "execution_count": 46,
   "metadata": {},
   "outputs": [
    {
     "data": {
      "text/plain": [
       "(TensorShape([64, 26, 512]), TensorShape([64, 8, 26, 62]))"
      ]
     },
     "execution_count": 46,
     "metadata": {},
     "output_type": "execute_result"
    }
   ],
   "source": [
    "sample_decoder = Decoder(num_layers=2, \n",
    "                         d_model=512, \n",
    "                         num_heads=8, \n",
    "                         dff=2048, \n",
    "                         target_vocab_size=8000)\n",
    "\n",
    "output, attn = sample_decoder(tf.random.uniform((64, 26)),\n",
    "                              enc_output=sample_encoder_output,\n",
    "                              training=False,\n",
    "                              look_ahead_mask=None,\n",
    "                              padding_mask=None)\n",
    "\n",
    "output.shape, attn['decoder_layer2_block2'].shape"
   ]
  },
  {
   "cell_type": "markdown",
   "metadata": {},
   "source": [
    "## Create the Transformer\n",
    "\n",
    "Transformer consists of the encoder, decoder, and a final linear layer. The output of the decoder is the input to the linear layer and output is returned."
   ]
  },
  {
   "cell_type": "code",
   "execution_count": 47,
   "metadata": {},
   "outputs": [],
   "source": [
    "class Transformer(tf.keras.Model):\n",
    "    def __init__(self, num_layers, d_model, num_heads, dff, input_vocab_size, \n",
    "                 target_vocab_size, rate=0.1):\n",
    "        super(Transformer, self).__init__()\n",
    "        \n",
    "        self.encoder = Encoder(num_layers, d_model, num_heads, dff, input_vocab_size, rate)\n",
    "        self.decoder = Decoder(num_layers, d_model, num_heads, dff, target_vocab_size, rate)\n",
    "        self.final_layer = tf.keras.layers.Dense(target_vocab_size)\n",
    "        \n",
    "    def call(self, inp, tar, training, enc_padding_mask, look_ahead_mask, dec_padding_mask):\n",
    "        # (batch_size, inp_seq_len, d_model)\n",
    "        enc_output = self.encoder(inp, training, enc_padding_mask)\n",
    "        \n",
    "        # dec_output.shape == (batch_size, tar_seq_len, d_model)\n",
    "        dec_output, attention_weights = self.decoder(\n",
    "            tar, enc_output, training, look_ahead_mask, dec_padding_mask)\n",
    "        \n",
    "        # (batch_size, tar_seq_len, target_vocab_size)\n",
    "        final_output = self.final_layer(dec_output)\n",
    "        \n",
    "        return final_output, attention_weights"
   ]
  },
  {
   "cell_type": "code",
   "execution_count": 48,
   "metadata": {},
   "outputs": [
    {
     "data": {
      "text/plain": [
       "TensorShape([64, 26, 8000])"
      ]
     },
     "execution_count": 48,
     "metadata": {},
     "output_type": "execute_result"
    }
   ],
   "source": [
    "sample_transformer = Transformer(\n",
    "    num_layers=2, d_model=512, num_heads=8, dff=2048, \n",
    "    input_vocab_size=8500, target_vocab_size=8000)\n",
    "\n",
    "temp_input = tf.random.uniform((64, 62))\n",
    "temp_target = tf.random.uniform((64, 26))\n",
    "\n",
    "fn_out, _ = sample_transformer(temp_input, temp_target, training=False, \n",
    "                               enc_padding_mask=None, \n",
    "                               look_ahead_mask=None, \n",
    "                               dec_padding_mask=None)\n",
    "\n",
    "fn_out.shape # (batch_size, tar_seq_len, target_vocab_size)"
   ]
  },
  {
   "cell_type": "markdown",
   "metadata": {},
   "source": [
    "## Set hyperparameters\n",
    "\n",
    "To keep this example small and relatively fast, the values for *num_layers*, *d_model*, and *dff* have been reduced."
   ]
  },
  {
   "cell_type": "code",
   "execution_count": 49,
   "metadata": {},
   "outputs": [],
   "source": [
    "num_layers = 4\n",
    "d_model = 128\n",
    "dff = 512\n",
    "num_heads = 8\n",
    "\n",
    "input_vocab_size = tokenizer_pt.vocab_size + 2\n",
    "target_vocab_size = tokenizer_en.vocab_size + 2\n",
    "dropout_rate = 0.1"
   ]
  },
  {
   "cell_type": "markdown",
   "metadata": {},
   "source": [
    "## Optimizer\n",
    "\n",
    "Use the Adam optimizer with a custom learning rate scheduler according to the formula in the [paper](https://arxiv.org/abs/1706.03762).\n",
    "\n",
    "$$\\Large{lrate = d_{model}^{-0.5} * min(step{\\_}num^{-0.5}, step{\\_}num * warmup{\\_}steps^{-1.5})}$$"
   ]
  },
  {
   "cell_type": "code",
   "execution_count": 50,
   "metadata": {},
   "outputs": [],
   "source": [
    "class CustomSchedule(tf.keras.optimizers.schedules.LearningRateSchedule):\n",
    "    def __init__(self, d_model, warmup_steps=4000):\n",
    "        super(CustomSchedule, self).__init__()\n",
    "        \n",
    "        self.d_model = d_model\n",
    "        self.d_model = tf.cast(self.d_model, tf.float32)\n",
    "        \n",
    "        self.warmup_steps = warmup_steps\n",
    "        \n",
    "    def __call__(self, step):\n",
    "        # asymptotically decreases\n",
    "        # step is in the denominator\n",
    "        arg1 = tf.math.rsqrt(step) # rsqrt = reciprocal square root\n",
    "        \n",
    "        # asymptotically increases\n",
    "        # step is in the numerator\n",
    "        arg2 = step * (self.warmup_steps ** -1.5)\n",
    "        \n",
    "        return tf.math.rsqrt(self.d_model) * tf.math.minimum(arg1, arg2)"
   ]
  },
  {
   "cell_type": "code",
   "execution_count": 51,
   "metadata": {},
   "outputs": [],
   "source": [
    "learning_rate = CustomSchedule(d_model)\n",
    "\n",
    "optimizer = tf.keras.optimizers.Adam(learning_rate, beta_1=0.9, beta_2=0.98, epsilon=1e-9)"
   ]
  },
  {
   "cell_type": "code",
   "execution_count": 52,
   "metadata": {},
   "outputs": [
    {
     "data": {
      "text/plain": [
       "Text(0.5, 0, 'Train Step')"
      ]
     },
     "execution_count": 52,
     "metadata": {},
     "output_type": "execute_result"
    },
    {
     "data": {
      "image/png": "[encoded data removed]",
      "text/plain": [
       "<Figure size 432x288 with 1 Axes>"
      ]
     },
     "metadata": {},
     "output_type": "display_data"
    }
   ],
   "source": [
    "temp_learning_rate_schedule = CustomSchedule(d_model, warmup_steps=4000)\n",
    "\n",
    "plt.plot(temp_learning_rate_schedule(tf.range(40000, dtype=tf.float32)))\n",
    "plt.ylabel(\"Learning Rate\")\n",
    "plt.xlabel(\"Train Step\")"
   ]
  },
  {
   "cell_type": "markdown",
   "metadata": {},
   "source": [
    "## Loss and metrics\n",
    "\n",
    "Since the target sequences are padded, it is important to apply a padding mask when calculating the loss."
   ]
  },
  {
   "cell_type": "code",
   "execution_count": 53,
   "metadata": {},
   "outputs": [],
   "source": [
    "loss_object = tf.keras.losses.SparseCategoricalCrossentropy(\n",
    "    from_logits=True, reduction='none')"
   ]
  },
  {
   "cell_type": "code",
   "execution_count": 54,
   "metadata": {},
   "outputs": [],
   "source": [
    "def loss_function(real, pred):\n",
    "    mask = tf.math.logical_not(tf.math.equal(real, 0))\n",
    "    loss_ = loss_object(real, pred)\n",
    "    \n",
    "    mask = tf.cast(mask, dtype=loss_.dtype)\n",
    "    loss_ *= mask\n",
    "    \n",
    "    return tf.reduce_mean(loss_)"
   ]
  },
  {
   "cell_type": "markdown",
   "metadata": {},
   "source": [
    "### Metrics\n",
    "\n",
    "Here's the flow:\n",
    "* Instantiate the metric at the start of the loop\n",
    "* Call `metric.update_state()` or simply `metric()` after each batch to add the latest value\n",
    "* Call `metric.result()` when you need to display the current value of the metric\n",
    "* Call `metric.reset_states()` when you need to clear the state of the metric (typically at the end of an epoch)\n",
    "\n",
    "Prepare the metrics"
   ]
  },
  {
   "cell_type": "code",
   "execution_count": 55,
   "metadata": {},
   "outputs": [],
   "source": [
    "train_loss = tf.keras.metrics.Mean(name='train_loss')\n",
    "train_accuracy = tf.keras.metrics.SparseCategoricalAccuracy(name='train_accuracy')"
   ]
  },
  {
   "cell_type": "markdown",
   "metadata": {},
   "source": [
    "See how it works:"
   ]
  },
  {
   "cell_type": "code",
   "execution_count": 56,
   "metadata": {},
   "outputs": [
    {
     "name": "stdout",
     "output_type": "stream",
     "text": [
      "tf.Tensor(0.0, shape=(), dtype=float32)\n",
      "tf.Tensor(10.0, shape=(), dtype=float32)\n",
      "tf.Tensor(15.0, shape=(), dtype=float32)\n",
      "tf.Tensor(20.0, shape=(), dtype=float32)\n",
      "tf.Tensor(0.0, shape=(), dtype=float32)\n"
     ]
    }
   ],
   "source": [
    "# Start with a clean state\n",
    "train_loss.reset_states()\n",
    "print(train_loss.result())\n",
    "\n",
    "# Add a value\n",
    "train_loss(10)\n",
    "print(train_loss.result())\n",
    "\n",
    "# Add another value\n",
    "train_loss(20)\n",
    "print(train_loss.result())\n",
    "\n",
    "# Add a value by calling the update function\n",
    "train_loss.update_state(30)\n",
    "print(train_loss.result())\n",
    "\n",
    "# Reset the state\n",
    "train_loss.reset_states()\n",
    "print(train_loss.result())"
   ]
  },
  {
   "cell_type": "markdown",
   "metadata": {},
   "source": [
    "## Training and checkpointing"
   ]
  },
  {
   "cell_type": "code",
   "execution_count": 57,
   "metadata": {},
   "outputs": [],
   "source": [
    "transformer = Transformer(num_layers, d_model, num_heads, dff, \n",
    "                          input_vocab_size, target_vocab_size, dropout_rate)"
   ]
  },
  {
   "cell_type": "code",
   "execution_count": 58,
   "metadata": {},
   "outputs": [],
   "source": [
    "def create_masks(inp, tar):\n",
    "    # Encoder padding mask\n",
    "    enc_padding_mask = create_padding_mask(inp)\n",
    "    \n",
    "    # Used in the 2nd attention block in the decoder.\n",
    "    # This padding mask is used to mask the encoder outputs.\n",
    "    dec_padding_mask = create_padding_mask(inp)\n",
    "    \n",
    "    # Used in the 1st attention block in the decoder.\n",
    "    # It is used to pad and mask future tokens in the input received by\n",
    "    # the decoder.\n",
    "    look_ahead_mask = create_look_ahead_mask(tf.shape(tar)[1])\n",
    "    dec_target_padding_mask = create_padding_mask(tar)\n",
    "    combined_mask = tf.maximum(dec_target_padding_mask, look_ahead_mask)\n",
    "    \n",
    "    return enc_padding_mask, combined_mask, dec_padding_mask"
   ]
  },
  {
   "cell_type": "markdown",
   "metadata": {},
   "source": [
    "Create the checkpoint path and the checkpoint manager. This will be used to save checkpoints every `n` epochs."
   ]
  },
  {
   "cell_type": "code",
   "execution_count": 59,
   "metadata": {},
   "outputs": [
    {
     "name": "stdout",
     "output_type": "stream",
     "text": [
      "Latest checkpoint restored!!\n"
     ]
    }
   ],
   "source": [
    "checkpoint_path = \"./checkpoints/train\"\n",
    "\n",
    "ckpt = tf.train.Checkpoint(transformer=transformer, \n",
    "                           optimizer=optimizer)\n",
    "\n",
    "# max_to_keep => number of most recent checkpoints to keep in the \"active set\" (memory)\n",
    "ckpt_manager = tf.train.CheckpointManager(ckpt, checkpoint_path, max_to_keep=5)\n",
    "\n",
    "# if a checkpoint exists, restore the latest checkpoint\n",
    "if ckpt_manager.latest_checkpoint:\n",
    "    ckpt.restore(ckpt_manager.latest_checkpoint)\n",
    "    print('Latest checkpoint restored!!')"
   ]
  },
  {
   "cell_type": "markdown",
   "metadata": {},
   "source": [
    "The target is divided into tar_inp and tar_real. \n",
    "\n",
    "`tar_inp` is passed as an input to the decoder. \n",
    "\n",
    "`tar_real` is the target shifted by 1: At each location in `tar_input`, `tar_real` contains the next token that should be predicted.\n",
    "\n",
    "For example, `sentence` = \"SOS A lion in the jungle is sleeping EOS\"\n",
    "\n",
    "`tar_inp` = \"SOS A lion in the jungle is sleeping\"\n",
    "\n",
    "`tar_real` = \"A lion in the jungle is sleeping EOS\"\n",
    "\n",
    "The transformer is an auto-regressive model: it makes predictions one part at a time, and uses its output so far to decide what to do next.\n",
    "\n",
    "During training this example uses teacher-forcing. Teacher forcing is passing the true output to the next time step regardless of what the model predicts at the current time step.\n",
    "\n",
    "As the transformer predicts each word, *self-attention* allows it to look at the previous words in the input sequence to better predict the next word.\n",
    "\n",
    "To prevent the model from peaking at the expected output the model uses a look-ahead mask."
   ]
  },
  {
   "cell_type": "code",
   "execution_count": 60,
   "metadata": {},
   "outputs": [],
   "source": [
    "EPOCHS = 20"
   ]
  },
  {
   "cell_type": "markdown",
   "metadata": {},
   "source": [
    "Define a training step for a batch"
   ]
  },
  {
   "cell_type": "code",
   "execution_count": 61,
   "metadata": {},
   "outputs": [],
   "source": [
    "# Compile the function below using @tf.function.\n",
    "# It makes a graph out of the function.\n",
    "@tf.function\n",
    "def train_step(inp, tar):\n",
    "    tar_inp = tar[:, :-1]\n",
    "    tar_real = tar[:, 1:]\n",
    "    \n",
    "    enc_padding_mask, combined_mask, dec_padding_mask = create_masks(inp, tar_inp)\n",
    "    \n",
    "    # Open a GradientTape to record the operations run\n",
    "    # during the forward pass, which enables automatic differentiation\n",
    "    with tf.GradientTape() as tape:\n",
    "        \n",
    "        # Run the forward pass of the layer.\n",
    "        # The operations that the layer applies\n",
    "        # to its inputs are going to be recorded\n",
    "        # on the GradientTape.\n",
    "        predictions, _ = transformer(inp, \n",
    "                                     tar_inp, \n",
    "                                     True, \n",
    "                                     enc_padding_mask, \n",
    "                                     combined_mask, \n",
    "                                     dec_padding_mask)\n",
    "        \n",
    "        # Compute the loss value for this minibatch\n",
    "        loss = loss_function(tar_real, predictions)\n",
    "    \n",
    "    # Use the gradient tape to automatically retrieve\n",
    "    # the gradients of the loss function with respect to the trainable variables.\n",
    "    gradients = tape.gradient(loss, transformer.trainable_variables)\n",
    "    \n",
    "    # Run one step of gradient descent by updating\n",
    "    # the value of the variables to minimize the loss\n",
    "    optimizer.apply_gradients(zip(gradients, transformer.trainable_variables))\n",
    "    \n",
    "    # Update training metrics.\n",
    "    train_loss(loss)\n",
    "    train_accuracy(tar_real, predictions)"
   ]
  },
  {
   "cell_type": "markdown",
   "metadata": {},
   "source": [
    "Portuguese is used as the input language and English is the target language"
   ]
  },
  {
   "cell_type": "code",
   "execution_count": 60,
   "metadata": {
    "scrolled": false
   },
   "outputs": [
    {
     "name": "stdout",
     "output_type": "stream",
     "text": [
      "Epoch 1 Batch 0 Loss 4.2226 Accuracy 0.0000\n",
      "Epoch 1 Batch 500 Loss 3.6184 Accuracy 0.0383\n",
      "Epoch 1 Loss 3.3939 Accuracy 0.0497\n",
      "Time taken for 1 epoch: 328.92441987991333 secs\n",
      "\n",
      "Epoch 2 Batch 0 Loss 2.6835 Accuracy 0.0942\n",
      "Epoch 2 Batch 500 Loss 2.4744 Accuracy 0.1155\n",
      "Epoch 2 Loss 2.4156 Accuracy 0.1210\n",
      "Time taken for 1 epoch: 298.55204010009766 secs\n",
      "\n",
      "Epoch 3 Batch 0 Loss 2.2309 Accuracy 0.1324\n",
      "Epoch 3 Batch 500 Loss 2.1683 Accuracy 0.1459\n",
      "Epoch 3 Loss 2.1348 Accuracy 0.1493\n",
      "Time taken for 1 epoch: 297.4669771194458 secs\n",
      "\n",
      "Epoch 4 Batch 0 Loss 2.0029 Accuracy 0.1608\n",
      "Epoch 4 Batch 500 Loss 1.9367 Accuracy 0.1742\n",
      "Epoch 4 Loss 1.9039 Accuracy 0.1779\n",
      "Time taken for 1 epoch: 297.0560097694397 secs\n",
      "\n",
      "Epoch 5 Batch 0 Loss 1.7669 Accuracy 0.1920\n",
      "Epoch 5 Batch 500 Loss 1.7352 Accuracy 0.1995\n",
      "Saving checkpoint for epoch 5 at ./checkpoints/train/ckpt-1\n",
      "Epoch 5 Loss 1.7098 Accuracy 0.2021\n",
      "Time taken for 1 epoch: 295.3261592388153 secs\n",
      "\n",
      "Epoch 6 Batch 0 Loss 1.6029 Accuracy 0.2134\n",
      "Epoch 6 Batch 500 Loss 1.5746 Accuracy 0.2176\n",
      "Epoch 6 Loss 1.5516 Accuracy 0.2199\n",
      "Time taken for 1 epoch: 293.92641949653625 secs\n",
      "\n",
      "Epoch 7 Batch 0 Loss 1.4365 Accuracy 0.2290\n",
      "Epoch 7 Batch 500 Loss 1.4148 Accuracy 0.2357\n",
      "Epoch 7 Loss 1.3917 Accuracy 0.2380\n",
      "Time taken for 1 epoch: 296.30029702186584 secs\n",
      "\n",
      "Epoch 8 Batch 0 Loss 1.2717 Accuracy 0.2455\n",
      "Epoch 8 Batch 500 Loss 1.2719 Accuracy 0.2531\n",
      "Epoch 8 Loss 1.2544 Accuracy 0.2548\n",
      "Time taken for 1 epoch: 299.3618540763855 secs\n",
      "\n",
      "Epoch 9 Batch 0 Loss 1.1713 Accuracy 0.2619\n",
      "Epoch 9 Batch 500 Loss 1.1588 Accuracy 0.2673\n",
      "Epoch 9 Loss 1.1449 Accuracy 0.2687\n",
      "Time taken for 1 epoch: 309.70721435546875 secs\n",
      "\n",
      "Epoch 10 Batch 0 Loss 1.0643 Accuracy 0.2743\n",
      "Epoch 10 Batch 500 Loss 1.0699 Accuracy 0.2789\n",
      "Saving checkpoint for epoch 10 at ./checkpoints/train/ckpt-2\n",
      "Epoch 10 Loss 1.0586 Accuracy 0.2798\n",
      "Time taken for 1 epoch: 311.4312207698822 secs\n",
      "\n",
      "Epoch 11 Batch 0 Loss 0.9837 Accuracy 0.2862\n",
      "Epoch 11 Batch 500 Loss 1.0007 Accuracy 0.2875\n",
      "Epoch 11 Loss 0.9902 Accuracy 0.2885\n",
      "Time taken for 1 epoch: 313.7693614959717 secs\n",
      "\n",
      "Epoch 12 Batch 0 Loss 0.9195 Accuracy 0.2928\n",
      "Epoch 12 Batch 500 Loss 0.9377 Accuracy 0.2963\n",
      "Epoch 12 Loss 0.9287 Accuracy 0.2969\n",
      "Time taken for 1 epoch: 314.6646716594696 secs\n",
      "\n",
      "Epoch 13 Batch 0 Loss 0.8639 Accuracy 0.2965\n",
      "Epoch 13 Batch 500 Loss 0.8874 Accuracy 0.3029\n",
      "Epoch 13 Loss 0.8791 Accuracy 0.3035\n",
      "Time taken for 1 epoch: 308.1777038574219 secs\n",
      "\n",
      "Epoch 14 Batch 0 Loss 0.8173 Accuracy 0.3059\n",
      "Epoch 14 Batch 500 Loss 0.8450 Accuracy 0.3083\n",
      "Epoch 14 Loss 0.8376 Accuracy 0.3088\n",
      "Time taken for 1 epoch: 307.95725178718567 secs\n",
      "\n",
      "Epoch 15 Batch 0 Loss 0.7773 Accuracy 0.3141\n",
      "Epoch 15 Batch 500 Loss 0.8083 Accuracy 0.3132\n",
      "Saving checkpoint for epoch 15 at ./checkpoints/train/ckpt-3\n",
      "Epoch 15 Loss 0.8023 Accuracy 0.3135\n",
      "Time taken for 1 epoch: 308.24417448043823 secs\n",
      "\n",
      "Epoch 16 Batch 0 Loss 0.7568 Accuracy 0.3133\n",
      "Epoch 16 Batch 500 Loss 0.7720 Accuracy 0.3187\n",
      "Epoch 16 Loss 0.7661 Accuracy 0.3189\n",
      "Time taken for 1 epoch: 309.34656167030334 secs\n",
      "\n",
      "Epoch 17 Batch 0 Loss 0.7103 Accuracy 0.3211\n",
      "Epoch 17 Batch 500 Loss 0.7457 Accuracy 0.3222\n",
      "Epoch 17 Loss 0.7401 Accuracy 0.3224\n",
      "Time taken for 1 epoch: 305.7923698425293 secs\n",
      "\n",
      "Epoch 18 Batch 0 Loss 0.6742 Accuracy 0.3236\n",
      "Epoch 18 Batch 500 Loss 0.7188 Accuracy 0.3259\n",
      "Epoch 18 Loss 0.7131 Accuracy 0.3262\n",
      "Time taken for 1 epoch: 308.9910626411438 secs\n",
      "\n",
      "Epoch 19 Batch 0 Loss 0.6514 Accuracy 0.3199\n",
      "Epoch 19 Batch 500 Loss 0.6928 Accuracy 0.3299\n",
      "Epoch 19 Loss 0.6887 Accuracy 0.3299\n",
      "Time taken for 1 epoch: 306.4852855205536 secs\n",
      "\n",
      "Epoch 20 Batch 0 Loss 0.6320 Accuracy 0.3331\n",
      "Epoch 20 Batch 500 Loss 0.6708 Accuracy 0.3330\n",
      "Saving checkpoint for epoch 20 at ./checkpoints/train/ckpt-4\n",
      "Epoch 20 Loss 0.6667 Accuracy 0.3330\n",
      "Time taken for 1 epoch: 305.87211632728577 secs\n",
      "\n"
     ]
    }
   ],
   "source": [
    "for epoch in range(EPOCHS):\n",
    "    start_time = time.time()\n",
    "    \n",
    "    # Clear the states of the metrics\n",
    "    train_loss.reset_states()\n",
    "    train_accuracy.reset_states()\n",
    "    \n",
    "    # inp -> portuguese, tar -> english\n",
    "    for (batch, (inp, tar)) in enumerate(train_dataset):\n",
    "        train_step(inp, tar)\n",
    "        \n",
    "        if batch % 500 == 0:\n",
    "            print('Epoch {} Batch {} Loss {:.4f} Accuracy {:.4f}'.format(\n",
    "                epoch + 1, batch, train_loss.result(), train_accuracy.result()))\n",
    "            \n",
    "    if (epoch + 1) % 5 == 0:\n",
    "        ckpt_save_path = ckpt_manager.save()\n",
    "        print('Saving checkpoint for epoch {} at {}'.format(epoch+1, \n",
    "                                                            ckpt_save_path))\n",
    "     \n",
    "    # Display metrics at the end of each epoch\n",
    "    print('Epoch {} Loss {:.4f} Accuracy {:.4f}'.format(epoch + 1, \n",
    "                                                        train_loss.result(), \n",
    "                                                        train_accuracy.result()))\n",
    "    \n",
    "    print('Time taken for 1 epoch: {} secs\\n'.format(time.time() - start_time))"
   ]
  },
  {
   "cell_type": "markdown",
   "metadata": {},
   "source": [
    "## Evaluate\n",
    "\n",
    "The following steps are used for evaluation:\n",
    "\n",
    "* Encode the input sentence using the Portuguese tokenizer (`tokenizer_pt`). Moreover, add the start and end token so the input is equivalent to what the model is trained with. This is the encoder input.\n",
    "* The decoder input is the `start token == tokenizer_en.vocab_size`.\n",
    "* Calculate the padding masks and the look ahead masks.\n",
    "* The `decoder` then outputs the predictions by looking at the `encoder output` and its own output (self-attention).\n",
    "* Select the last word and calculate the argmax of that.\n",
    "* Concatenate the predicted word to the decoder input and pass it to the decoder.\n",
    "* In this approach, the decoder predicts the next word based on the previous words it predicted."
   ]
  },
  {
   "cell_type": "code",
   "execution_count": 82,
   "metadata": {},
   "outputs": [],
   "source": [
    "def evaluate(inp_sentence):\n",
    "    start_token = [tokenizer_pt.vocab_size]\n",
    "    end_token = [tokenizer_pt.vocab_size + 1]\n",
    "    \n",
    "    # Input sentence is portuguese, hence adding the start and end token\n",
    "    inp_sentence = start_token + tokenizer_pt.encode(inp_sentence) + end_token\n",
    "    \n",
    "    # Turn the input into a batch of size 1\n",
    "    encoder_input = tf.expand_dims(inp_sentence, 0)\n",
    "    \n",
    "    # As the target is english, the first word to the transformer should be the\n",
    "    # english start token\n",
    "    decoder_input = [tokenizer_en.vocab_size]\n",
    "    output = tf.expand_dims(decoder_input, 0)\n",
    "    \n",
    "    for i in range(MAX_LENGTH):\n",
    "        enc_padding_mask, combined_mask, dec_padding_mask = create_masks(\n",
    "            encoder_input, output)\n",
    "        \n",
    "        # predictions.shape == (batch_size, seq_len, vocab_size)\n",
    "        predictions, attention_weights = transformer(encoder_input, \n",
    "                                                     output, \n",
    "                                                     False, \n",
    "                                                     enc_padding_mask, \n",
    "                                                     combined_mask, \n",
    "                                                     dec_padding_mask)\n",
    "        \n",
    "        # select the last word from the seq_len dimension\n",
    "        # seq_len is the current sequence length of the target\n",
    "        predictions = predictions[:, -1:, :] # (batch_size, 1, vocab_size)\n",
    "        \n",
    "        # (batch_size, 1)\n",
    "        predicted_id = tf.cast(tf.argmax(predictions, axis=-1), tf.int32)\n",
    "        \n",
    "        # return the result if the predicted_id is equal to the end token\n",
    "        if tf.equal(predicted_id, tokenizer_en.vocab_size+1):\n",
    "            # final output: (seq_len)\n",
    "            return tf.squeeze(output, axis=0), attention_weights\n",
    "        \n",
    "        # concatenate the predicted_id to the output which is given to the decoder\n",
    "        # as its input\n",
    "        # (batch_size, seq_len)\n",
    "        output = tf.concat([output, predicted_id], axis=-1)\n",
    "       \n",
    "    # final output: (seq_len)\n",
    "    return tf.squeeze(output, axis=0), attention_weights"
   ]
  },
  {
   "cell_type": "code",
   "execution_count": 83,
   "metadata": {},
   "outputs": [],
   "source": [
    "def plot_attention_weights(attention, sentence, result, layer):\n",
    "    fig = plt.figure(figsize=(16, 8))\n",
    "    \n",
    "    sentence = tokenizer_pt.encode(sentence)\n",
    "    \n",
    "    # There are 8 attention weights in the attention dictionary\n",
    "    # 4 decoder layers with 2 blocks each\n",
    "    # (num_heads, seq_len_q, seq_len_k)\n",
    "    attention = tf.squeeze(attention[layer], axis=0)\n",
    "    \n",
    "    for head in range(attention.shape[0]):\n",
    "        ax = fig.add_subplot(2, 4, head+1)\n",
    "        \n",
    "        # Plot the attention weights\n",
    "        # Notice that we ignore the last element in the first dimension.\n",
    "        # Thus, the first element in the first dimenstions indicates the\n",
    "        # Portuguese subword/token the model pays attention to the most\n",
    "        # in generating the English equivalent subword/token\n",
    "        ax.matshow(attention[head][:-1, :], cmap='viridis')\n",
    "        \n",
    "        fontdict = {'fontsize': 10}\n",
    "        \n",
    "        # The x axis corresponds to the key: Portuguese\n",
    "        ax.set_xticks(range(len(sentence)+2))\n",
    "        \n",
    "        # The y axis corresponds to the query: English\n",
    "        ax.set_yticks(range(len(result)))\n",
    "        \n",
    "        ax.set_ylim(len(result)-1.5, -0.5)\n",
    "        \n",
    "        ax.set_xticklabels(\n",
    "            ['<start>']+[tokenizer_pt.decode([i]) for i in sentence]+['<end>'], \n",
    "            fontdict=fontdict, rotation=90)\n",
    "        \n",
    "        ax.set_yticklabels([tokenizer_en.decode([i]) for i in result \n",
    "                            if i < tokenizer_en.vocab_size], \n",
    "                           fontdict=fontdict)\n",
    "        \n",
    "        ax.set_xlabel('Head {}'.format(head+1))\n",
    "        \n",
    "    plt.tight_layout()\n",
    "    plt.show()"
   ]
  },
  {
   "cell_type": "code",
   "execution_count": 84,
   "metadata": {},
   "outputs": [],
   "source": [
    "def translate(sentence, plot=''):\n",
    "    result, attention_weights = evaluate(sentence)\n",
    "    \n",
    "    predicted_sentence = tokenizer_en.decode([i for i in result \n",
    "                                              if i < tokenizer_en.vocab_size])\n",
    "    \n",
    "    print('Input: {}'.format(sentence))\n",
    "    print('Predicted translation: {}'.format(predicted_sentence))\n",
    "    \n",
    "    if plot:\n",
    "        plot_attention_weights(attention_weights, sentence, result, plot)"
   ]
  },
  {
   "cell_type": "code",
   "execution_count": 85,
   "metadata": {},
   "outputs": [
    {
     "name": "stdout",
     "output_type": "stream",
     "text": [
      "Input: este é um problema que temos que resolver.\n",
      "Predicted translation: this is a problem that we have to solve the truth .\n",
      "Real translation: this is a problem we have to solve .\n"
     ]
    }
   ],
   "source": [
    "translate(\"este é um problema que temos que resolver.\")\n",
    "print (\"Real translation: this is a problem we have to solve .\")"
   ]
  },
  {
   "cell_type": "code",
   "execution_count": 86,
   "metadata": {},
   "outputs": [
    {
     "name": "stdout",
     "output_type": "stream",
     "text": [
      "Input: os meus vizinhos ouviram sobre esta ideia.\n",
      "Predicted translation: my neighbors heard about this idea .\n",
      "Real translation: and my neighboring homes heard about this idea .\n"
     ]
    }
   ],
   "source": [
    "translate(\"os meus vizinhos ouviram sobre esta ideia.\")\n",
    "print (\"Real translation: and my neighboring homes heard about this idea .\")"
   ]
  },
  {
   "cell_type": "code",
   "execution_count": 87,
   "metadata": {},
   "outputs": [
    {
     "name": "stdout",
     "output_type": "stream",
     "text": [
      "Input: vou então muito rapidamente partilhar convosco algumas histórias de algumas coisas mágicas que aconteceram.\n",
      "Predicted translation: so i 'm very quickly going to share with you a few key stories that happened .\n",
      "Real translation: so i 'll just share with you some stories very quickly of some magical things that have happened .\n"
     ]
    }
   ],
   "source": [
    "translate(\"vou então muito rapidamente partilhar convosco algumas histórias de algumas coisas mágicas que aconteceram.\")\n",
    "print (\"Real translation: so i 'll just share with you some stories very quickly of some magical things that have happened .\")"
   ]
  },
  {
   "cell_type": "code",
   "execution_count": 88,
   "metadata": {},
   "outputs": [
    {
     "name": "stdout",
     "output_type": "stream",
     "text": [
      "Input: Ele é o melhor jogador de futebol do mundo\n",
      "Predicted translation: it takes the best football button in the world .\n",
      "Real translation: He is the best soccer player in the world\n"
     ]
    }
   ],
   "source": [
    "translate(\"Ele é o melhor jogador de futebol do mundo\")\n",
    "print(\"Real translation: He is the best soccer player in the world\")"
   ]
  },
  {
   "cell_type": "code",
   "execution_count": 89,
   "metadata": {},
   "outputs": [
    {
     "name": "stdout",
     "output_type": "stream",
     "text": [
      "Input: este é o primeiro livro que eu fiz.\n",
      "Predicted translation: this is the first book that i did .\n"
     ]
    },
    {
     "data": {
      "image/png": "[encoded data removed]",
      "text/plain": [
       "<Figure size 1152x576 with 8 Axes>"
      ]
     },
     "metadata": {},
     "output_type": "display_data"
    },
    {
     "name": "stdout",
     "output_type": "stream",
     "text": [
      "Real translation: this is the first book i've ever done.\n"
     ]
    }
   ],
   "source": [
    "translate(\"este é o primeiro livro que eu fiz.\", plot='decoder_layer4_block2')\n",
    "print (\"Real translation: this is the first book i've ever done.\")"
   ]
  }
 ],
 "metadata": {
  "kernelspec": {
   "display_name": "Python 3",
   "language": "python",
   "name": "python3"
  },
  "language_info": {
   "codemirror_mode": {
    "name": "ipython",
    "version": 3
   },
   "file_extension": ".py",
   "mimetype": "text/x-python",
   "name": "python",
   "nbconvert_exporter": "python",
   "pygments_lexer": "ipython3",
   "version": "3.7.1"
  }
 },
 "nbformat": 4,
 "nbformat_minor": 2
}
